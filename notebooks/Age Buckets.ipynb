{
 "cells": [
  {
   "cell_type": "code",
   "execution_count": 1,
   "metadata": {
    "collapsed": true
   },
   "outputs": [],
   "source": [
    "%matplotlib inline\n",
    "\n",
    "import pandas as pd\n",
    "import numpy as np\n",
    "\n",
    "import matplotlib.pyplot as plt\n",
    "import seaborn as sns\n",
    "\n",
    "%run ../src/utility.py\n",
    "\n",
    "np.random.seed(2016)"
   ]
  },
  {
   "cell_type": "code",
   "execution_count": 17,
   "metadata": {
    "collapsed": true
   },
   "outputs": [],
   "source": [
    "age_gender_bkts = pd.read_csv('../data/age_gender_bkts.csv')\n",
    "train           = pd.read_csv('../data/train_users_2.csv')\n",
    "test            = pd.read_csv('../data/test_users.csv')"
   ]
  },
  {
   "cell_type": "code",
   "execution_count": null,
   "metadata": {
    "collapsed": true
   },
   "outputs": [],
   "source": [
    "age_gender_bkts"
   ]
  },
  {
   "cell_type": "code",
   "execution_count": 49,
   "metadata": {
    "collapsed": false
   },
   "outputs": [],
   "source": [
    "# Q Which city has the highest population difference across all age brackets ?\n",
    "age_pop_by_country = age_gender_bkts.groupby(['age_bucket', 'gender'])['population_in_thousands']\\\n",
    "               .apply(lambda x: x.sum()).unstack()"
   ]
  },
  {
   "cell_type": "code",
   "execution_count": 54,
   "metadata": {
    "collapsed": false
   },
   "outputs": [
    {
     "data": {
      "text/plain": [
       "age_bucket\n",
       "85-89    3138.0\n",
       "80-84    3091.0\n",
       "75-79    2674.0\n",
       "70-74    2084.0\n",
       "90-94    2073.0\n",
       "65-69    1822.0\n",
       "60-64    1585.0\n",
       "55-59    1050.0\n",
       "95-99     575.0\n",
       "50-54     573.0\n",
       "100+      115.0\n",
       "45-49      54.0\n",
       "40-44       6.0\n",
       "35-39    -200.0\n",
       "30-34    -422.0\n",
       "25-29    -853.0\n",
       "10-14    -964.0\n",
       "5-9      -971.0\n",
       "15-19    -993.0\n",
       "0-4     -1064.0\n",
       "20-24   -1075.0\n",
       "dtype: float64"
      ]
     },
     "execution_count": 54,
     "metadata": {},
     "output_type": "execute_result"
    }
   ],
   "source": [
    "(age_pop_by_country['female'] - age_pop_by_country['male']).sort_values(ascending=False)"
   ]
  },
  {
   "cell_type": "code",
   "execution_count": 66,
   "metadata": {
    "collapsed": false
   },
   "outputs": [
    {
     "data": {
      "text/plain": [
       "US       0.743595\n",
       "other    0.103534\n",
       "FR       0.042701\n",
       "IT       0.024241\n",
       "ES       0.023716\n",
       "GB       0.020891\n",
       "CA       0.013402\n",
       "DE       0.011759\n",
       "NL       0.008212\n",
       "AU       0.005781\n",
       "PT       0.002168\n",
       "Name: country_destination, dtype: float64"
      ]
     },
     "execution_count": 66,
     "metadata": {},
     "output_type": "execute_result"
    }
   ],
   "source": [
    "mask = (train.age >= 25) & (train.age < 30) & (train.country_destination != 'NDF')\n",
    "train.loc[mask, 'country_destination'].value_counts(normalize=True)"
   ]
  },
  {
   "cell_type": "code",
   "execution_count": null,
   "metadata": {
    "collapsed": true
   },
   "outputs": [],
   "source": []
  }
 ],
 "metadata": {
  "kernelspec": {
   "display_name": "Python [Root]",
   "language": "python",
   "name": "Python [Root]"
  },
  "language_info": {
   "codemirror_mode": {
    "name": "ipython",
    "version": 3
   },
   "file_extension": ".py",
   "mimetype": "text/x-python",
   "name": "python",
   "nbconvert_exporter": "python",
   "pygments_lexer": "ipython3",
   "version": "3.5.2"
  }
 },
 "nbformat": 4,
 "nbformat_minor": 0
}
